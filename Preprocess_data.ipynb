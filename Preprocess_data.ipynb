{
 "cells": [
  {
   "cell_type": "code",
   "execution_count": 2,
   "id": "76dc9315-1c23-47f3-84ba-361df8ebca8f",
   "metadata": {},
   "outputs": [],
   "source": [
    "import pickle\n",
    "import os\n",
    "import numpy as np\n",
    "import nibabel as nib\n",
    "import matplotlib.pyplot as plt\n",
    "import random\n",
    "from tqdm import tqdm\n",
    "import h5py"
   ]
  },
  {
   "cell_type": "code",
   "execution_count": 3,
   "id": "21f0696e-2d9d-47e5-aa9f-d284df9f8c91",
   "metadata": {},
   "outputs": [],
   "source": [
    "root_dir = \"/home/yyelisieiev/rsna_data/RSNA_ASNR_MICCAI_BraTS2021_TrainingData\"\n",
    "sample = \"BraTS2021_00000\"\n",
    "sample_dir = \"/home/yyelisieiev/rsna_data/RSNA_ASNR_MICCAI_BraTS2021_TrainingData/BraTS2021_00000/\""
   ]
  },
  {
   "cell_type": "code",
   "execution_count": 16,
   "id": "c869f6a4-74f9-4f9e-9a55-939f8be87783",
   "metadata": {},
   "outputs": [],
   "source": [
    "def nib_load(file_name):\n",
    "    proxy = nib.load(file_name)\n",
    "    data = proxy.get_data()\n",
    "    proxy.uncache()\n",
    "    return data"
   ]
  },
  {
   "cell_type": "code",
   "execution_count": 17,
   "id": "9d2b053c-ba56-4c61-ba5e-8d1ea03b9c00",
   "metadata": {},
   "outputs": [],
   "source": [
    "modalities = ['flair', 't1ce', 't1', 't2']"
   ]
  },
  {
   "cell_type": "code",
   "execution_count": 7,
   "id": "9911df76-3d6b-4cc2-afc7-40c2b9c3550a",
   "metadata": {},
   "outputs": [],
   "source": [
    "all_cases = os.listdir('/home/yyelisieiev/rsna_data/RSNA_ASNR_MICCAI_BraTS2021_TrainingData')"
   ]
  },
  {
   "cell_type": "code",
   "execution_count": 10,
   "id": "b6757cef-09fe-408e-8a50-668796395537",
   "metadata": {},
   "outputs": [
    {
     "data": {
      "text/plain": [
       "'BraTS2021_00674'"
      ]
     },
     "execution_count": 10,
     "metadata": {},
     "output_type": "execute_result"
    }
   ],
   "source": [
    "all_cases[0]"
   ]
  },
  {
   "cell_type": "code",
   "execution_count": 29,
   "id": "789a72e3-3842-4a7c-b276-4e601573b710",
   "metadata": {},
   "outputs": [
    {
     "data": {
      "text/plain": [
       "155155"
      ]
     },
     "execution_count": 29,
     "metadata": {},
     "output_type": "execute_result"
    }
   ],
   "source": [
    "a_file = open(\"val (1).txt\", \"r\")\n",
    "\n",
    "val_list = []\n",
    "for line in a_file:\n",
    "    stripped_line = line.strip()\n",
    "#     line_list = stripped_line.split()\n",
    "    list_of_lists.append(stripped_line)\n",
    "\n",
    "a_file.close()\n",
    "\n",
    "len(os.listdir('/home/yyelisieiev/rsna_data/preprocessed_BraTS/train'))"
   ]
  },
  {
   "cell_type": "code",
   "execution_count": 33,
   "id": "2064dffb-487c-4c80-b74f-f4416e56fa07",
   "metadata": {},
   "outputs": [
    {
     "name": "stderr",
     "output_type": "stream",
     "text": [
      "  0%|                                                                                                             | 0/1251 [00:00<?, ?it/s]/tmp/ipykernel_25856/3069981497.py:3: DeprecationWarning: get_data() is deprecated in favor of get_fdata(), which has a more predictable return type. To obtain get_data() behavior going forward, use numpy.asanyarray(img.dataobj).\n",
      "\n",
      "* deprecated from version: 3.0\n",
      "* Will raise <class 'nibabel.deprecator.ExpiredDeprecationError'> as of version: 5.0\n",
      "  data = proxy.get_data()\n",
      " 45%|████████████████████████████████████████████▌                                                      | 563/1251 [09:26<11:31,  1.01s/it]\n"
     ]
    },
    {
     "ename": "KeyboardInterrupt",
     "evalue": "",
     "output_type": "error",
     "traceback": [
      "\u001b[0;31m---------------------------------------------------------------------------\u001b[0m",
      "\u001b[0;31mKeyboardInterrupt\u001b[0m                         Traceback (most recent call last)",
      "\u001b[0;32m/tmp/ipykernel_25856/3295752852.py\u001b[0m in \u001b[0;36m<module>\u001b[0;34m\u001b[0m\n\u001b[1;32m     18\u001b[0m         \u001b[0my\u001b[0m \u001b[0;34m=\u001b[0m \u001b[0mx\u001b[0m\u001b[0;34m[\u001b[0m\u001b[0mmask\u001b[0m\u001b[0;34m]\u001b[0m\u001b[0;34m\u001b[0m\u001b[0;34m\u001b[0m\u001b[0m\n\u001b[1;32m     19\u001b[0m         \u001b[0mx\u001b[0m\u001b[0;34m[\u001b[0m\u001b[0mmask\u001b[0m\u001b[0;34m]\u001b[0m \u001b[0;34m-=\u001b[0m \u001b[0my\u001b[0m\u001b[0;34m.\u001b[0m\u001b[0mmean\u001b[0m\u001b[0;34m(\u001b[0m\u001b[0;34m)\u001b[0m\u001b[0;34m\u001b[0m\u001b[0;34m\u001b[0m\u001b[0m\n\u001b[0;32m---> 20\u001b[0;31m         \u001b[0mx\u001b[0m\u001b[0;34m[\u001b[0m\u001b[0mmask\u001b[0m\u001b[0;34m]\u001b[0m \u001b[0;34m/=\u001b[0m \u001b[0my\u001b[0m\u001b[0;34m.\u001b[0m\u001b[0mstd\u001b[0m\u001b[0;34m(\u001b[0m\u001b[0;34m)\u001b[0m\u001b[0;34m\u001b[0m\u001b[0;34m\u001b[0m\u001b[0m\n\u001b[0m\u001b[1;32m     21\u001b[0m         \u001b[0mimages\u001b[0m\u001b[0;34m[\u001b[0m\u001b[0;34m...\u001b[0m\u001b[0;34m,\u001b[0m \u001b[0mk\u001b[0m\u001b[0;34m]\u001b[0m \u001b[0;34m=\u001b[0m \u001b[0mx\u001b[0m\u001b[0;34m\u001b[0m\u001b[0;34m\u001b[0m\u001b[0m\n\u001b[1;32m     22\u001b[0m \u001b[0;34m\u001b[0m\u001b[0m\n",
      "\u001b[0;31mKeyboardInterrupt\u001b[0m: "
     ]
    }
   ],
   "source": [
    "train_dir = \"/home/yyelisieiev/rsna_data/preprocessed_BraTS/train\"\n",
    "\n",
    "for case in tqdm(all_cases):\n",
    "    \n",
    "    print(case, val_list[0])\n",
    "    if case in val_list:\n",
    "        continue\n",
    "    \n",
    "    case_n = case.split(\"_\")[1]\n",
    "    sample_path = os.path.join(root_dir, case, case)\n",
    "    images = np.stack([np.array(nib_load(sample_path + '_' + modal + '.nii.gz'), dtype='float32', order='C') for modal in modalities], -1)\n",
    "    \n",
    "    label = np.array(nib_load(sample_path + '_' + 'seg.nii.gz'), dtype='uint8', order='C')\n",
    "    mask = images.sum(-1) > 0    \n",
    "    \n",
    "    for k in range(4):\n",
    "\n",
    "        x = images[..., k]\n",
    "        y = x[mask]\n",
    "        x[mask] -= y.mean()\n",
    "        x[mask] /= y.std()\n",
    "        images[..., k] = x\n",
    "    \n",
    "    \n",
    "    images = np.transpose(images, (2, 3, 0, 1))\n",
    "    label = np.transpose(label, (2, 0, 1))\n",
    "    \n",
    "    for slice_idx, mri_slice in enumerate(zip(images, label)):\n",
    "        image, label = mri_slice\n",
    "        n_elements = label.size\n",
    "        non_zeros = np.count_nonzero(label)\n",
    "        \n",
    "        non_zero_frac = non_zeros/n_elements\n",
    "        \n",
    "        if non_zero_frac > 0.01:\n",
    "            slice_path = os.path.join(train_dir, f\"case{case_n}_slice{slice_idx}.npz\")\n",
    "            np.savez(slice_path, image, label)"
   ]
  },
  {
   "cell_type": "code",
   "execution_count": null,
   "id": "8bb896a7-c2a9-477a-a3fc-852e41b9faa0",
   "metadata": {},
   "outputs": [],
   "source": [
    "len(os.listdir('/home/yyelisieiev/rsna_data/preprocessed_BraTS/train'))\n",
    "\n",
    "155155"
   ]
  },
  {
   "cell_type": "code",
   "execution_count": null,
   "id": "f1d21126-01d9-4cc4-9f2d-4604a695346c",
   "metadata": {},
   "outputs": [
    {
     "name": "stderr",
     "output_type": "stream",
     "text": [
      "  0%|                                                                                                              | 0/250 [00:00<?, ?it/s]/tmp/ipykernel_85338/3069981497.py:3: DeprecationWarning: get_data() is deprecated in favor of get_fdata(), which has a more predictable return type. To obtain get_data() behavior going forward, use numpy.asanyarray(img.dataobj).\n",
      "\n",
      "* deprecated from version: 3.0\n",
      "* Will raise <class 'nibabel.deprecator.ExpiredDeprecationError'> as of version: 5.0\n",
      "  data = proxy.get_data()\n",
      " 64%|████████████████████████████████████████████████████████████████                                    | 160/250 [03:27<02:13,  1.48s/it]"
     ]
    }
   ],
   "source": [
    "# val_dir = \"/home/yyelisieiev/rsna_data/preprocessed_BraTS/val\"\n",
    "\n",
    "# for case in tval_listl_cases):\n",
    "#     case_n = case.split(\"_\")[1]\n",
    "#     sample_path = os.path.join(root_dir, case, case)\n",
    "#     images = np.stack([np.array(nib_load(sample_path + '_' + modal + '.nii.gz'), dtype='float32', order='C') for modal in modalities], -1)\n",
    "#     label = np.array(nib_load(sample_path + '_' + 'seg.nii.gz'), dtype='uint8', order='C')\n",
    "    \n",
    "#     mask = images.sum(-1) > 0\n",
    "    \n",
    "#     for k in range(4):\n",
    "\n",
    "#         x = images[..., k]\n",
    "#         y = x[mask]\n",
    "#         x[mask] -= y.mean()\n",
    "#         x[mask] /= y.std()\n",
    "#         images[..., k] = x\n",
    "        \n",
    "#     images = np.transpose(images, (2, 3, 0, 1))\n",
    "#     label = np.transpose(label, (2, 0, 1))\n",
    "    \n",
    "#     f1 = h5py.File(os.path.join(val_dir, f\"case{case_n}.npy.hdf5\"), \"w\")\n",
    "    \n",
    "#     f1.create_dataset(\"images\", data=images)\n",
    "#     f1.create_dataset(\"label\", data=label)"
   ]
  },
  {
   "cell_type": "code",
   "execution_count": null,
   "id": "d57de3d6-1f82-4bc4-8e15-3460356edadb",
   "metadata": {},
   "outputs": [],
   "source": [
    "with h5py.File(\"/home/yyelisieiev/rsna_data/preprocessed_BraTS/val/case00615.npy.hdf5\", \"r\") as f:\n",
    "    # List all groups\n",
    "    print(\"Keys: %s\" % f.keys())\n",
    "    a_group_key = list(f.keys())[0]\n",
    "\n",
    "    # Get the data\n",
    "    data = list(f[a_group_key])"
   ]
  }
 ],
 "metadata": {
  "kernelspec": {
   "display_name": "Python 3 (ipykernel)",
   "language": "python",
   "name": "python3"
  },
  "language_info": {
   "codemirror_mode": {
    "name": "ipython",
    "version": 3
   },
   "file_extension": ".py",
   "mimetype": "text/x-python",
   "name": "python",
   "nbconvert_exporter": "python",
   "pygments_lexer": "ipython3",
   "version": "3.8.7"
  }
 },
 "nbformat": 4,
 "nbformat_minor": 5
}
